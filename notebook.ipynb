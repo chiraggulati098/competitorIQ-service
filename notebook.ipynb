{
 "cells": [
  {
   "cell_type": "markdown",
   "id": "c4e8bbf0-3d1e-47f4-aa70-86154b03a407",
   "metadata": {},
   "source": [
    "## AI Setup"
   ]
  },
  {
   "cell_type": "code",
   "execution_count": 1,
   "id": "89d135dd-65f6-4dde-835f-973aa1ed751e",
   "metadata": {},
   "outputs": [
    {
     "name": "stderr",
     "output_type": "stream",
     "text": [
      "/Users/chigi/Developer/competitorIQ/competitorIQ-service/venv/lib/python3.11/site-packages/tqdm/auto.py:21: TqdmWarning: IProgress not found. Please update jupyter and ipywidgets. See https://ipywidgets.readthedocs.io/en/stable/user_install.html\n",
      "  from .autonotebook import tqdm as notebook_tqdm\n"
     ]
    },
    {
     "data": {
      "text/plain": [
       "True"
      ]
     },
     "execution_count": 1,
     "metadata": {},
     "output_type": "execute_result"
    }
   ],
   "source": [
    "import google.generativeai as genai\n",
    "import os\n",
    "from dotenv import load_dotenv\n",
    "import time\n",
    "\n",
    "load_dotenv()"
   ]
  },
  {
   "cell_type": "code",
   "execution_count": 2,
   "id": "8ad459b3",
   "metadata": {},
   "outputs": [],
   "source": [
    "GEMINI_API_KEY = os.getenv(\"GEMINI_API_KEY\")\n",
    "genai.configure(api_key=GEMINI_API_KEY)\n",
    "GEMINI_MODEL = \"gemini-1.5-flash\""
   ]
  },
  {
   "cell_type": "code",
   "execution_count": 3,
   "id": "1dd03cfc",
   "metadata": {},
   "outputs": [],
   "source": [
    "def generate_response(prompt):\n",
    "    '''\n",
    "    Send user query to Gemini API and return response\n",
    "    '''\n",
    "    max_retries = 3\n",
    "    for attempt in range(max_retries):\n",
    "        try:\n",
    "            model = genai.GenerativeModel(GEMINI_MODEL)\n",
    "            response = model.generate_content(prompt)\n",
    "            return response.text\n",
    "        except Exception as e:\n",
    "            if attempt < max_retries - 1:\n",
    "                print(f\"Attempt {attempt + 1} failed: {e}. Retrying...\")\n",
    "                time.sleep(1)  \n",
    "                continue\n",
    "            else:\n",
    "                return f\"Error after {max_retries} attempts: {str(e)}\""
   ]
  },
  {
   "cell_type": "markdown",
   "id": "b0fbe37c",
   "metadata": {},
   "source": [
    "# 1. Initial Scan of Website"
   ]
  },
  {
   "cell_type": "code",
   "execution_count": 4,
   "id": "f9ef0808",
   "metadata": {},
   "outputs": [],
   "source": [
    "import requests\n",
    "from bs4 import BeautifulSoup\n",
    "from urllib.parse import urljoin"
   ]
  },
  {
   "cell_type": "code",
   "execution_count": 5,
   "id": "d71ef3be",
   "metadata": {},
   "outputs": [],
   "source": [
    "def fetch_html(url):\n",
    "    try:\n",
    "        headers = {'User-Agent': 'Mozilla/5.0'}\n",
    "        print(f\"🔗 Fetching HTML from: {url}\")\n",
    "        response = requests.get(url, headers=headers, timeout=10)\n",
    "        response.raise_for_status()\n",
    "        print(\"✅ HTML fetch successful.\")\n",
    "        return response.text\n",
    "    except Exception as e:\n",
    "        print(f\"[ERROR] Failed to fetch HTML from {url}: {e}\")\n",
    "        return None\n",
    "\n",
    "def extract_links(html, base_url):\n",
    "    soup = BeautifulSoup(html, \"html.parser\")\n",
    "    raw_links = soup.find_all(\"a\", href=True)\n",
    "    links = [urljoin(base_url, tag['href']) for tag in raw_links]\n",
    "    print(f\"🔍 Found {len(links)} total links.\")\n",
    "    print(links)\n",
    "    return links\n",
    "\n",
    "def build_prompt(links, homepage_text=\"\"):\n",
    "    link_list = \"\\n\".join(links)  \n",
    "    return f\"\"\"\n",
    "You are an AI assistant helping extract key competitor page links from a homepage.\n",
    "\n",
    "Here is a list of links found on the homepage:\n",
    "{link_list}\n",
    "\n",
    "Based on common naming conventions, identify the most likely URLs for:\n",
    "- pricing\n",
    "- blog\n",
    "- release notes or changelog\n",
    "- Twitter\n",
    "- LinkedIn\n",
    "- Play Store\n",
    "- App Store\n",
    "\n",
    "Respond ONLY in this JSON format:\n",
    "{{\n",
    "  \"pricing_url\": \"...\",\n",
    "  \"blog_url\": \"...\",\n",
    "  \"release_notes_url\": \"...\",\n",
    "  \"linkedin_url\": \"...\",\n",
    "  \"twitter_url\": \"...\",\n",
    "  \"playstore_url\": \"...\",\n",
    "  \"appstore_url\": \"...\"\n",
    "}}\n",
    "\n",
    "If any link is missing, set the value to an empty string.\n",
    "\"\"\""
   ]
  },
  {
   "cell_type": "code",
   "execution_count": 6,
   "id": "17e2cf2e",
   "metadata": {},
   "outputs": [],
   "source": [
    "def scan_website(url):\n",
    "    html = fetch_html(url)\n",
    "    if not html:\n",
    "        return\n",
    "\n",
    "    links = extract_links(html, url)\n",
    "\n",
    "    print(\"\\n📨 Sending links to Gemini...\")\n",
    "    prompt = build_prompt(links)\n",
    "    ai_response = generate_response(prompt)\n",
    "\n",
    "    print(\"\\n🧠 Gemini returned:\")\n",
    "    print(ai_response)"
   ]
  },
  {
   "cell_type": "code",
   "execution_count": 7,
   "id": "f5674d99",
   "metadata": {},
   "outputs": [
    {
     "data": {
      "text/plain": [
       "\"I'm doing well, thank you for asking! How are you today?\\n\""
      ]
     },
     "execution_count": 7,
     "metadata": {},
     "output_type": "execute_result"
    }
   ],
   "source": [
    "generate_response(\"Hello, how are you?\")  "
   ]
  },
  {
   "cell_type": "code",
   "execution_count": 8,
   "id": "c0404727",
   "metadata": {},
   "outputs": [
    {
     "name": "stdout",
     "output_type": "stream",
     "text": [
      "🔗 Fetching HTML from: https://www.notion.com\n",
      "✅ HTML fetch successful.\n",
      "🔍 Found 83 total links.\n",
      "['https://www.notion.com/product', 'https://www.notion.com/product/ai', 'https://www.notion.com/product/docs', 'https://www.notion.com/product/wikis', 'https://www.notion.com/product/projects', 'https://www.notion.com/product/enterprise-search', 'https://www.notion.com/product/ai-meeting-notes', 'https://www.notion.com/product/forms', 'https://www.notion.com/product/sites', 'https://www.notion.com/templates', 'https://www.notion.com/integrations', 'https://www.notion.com/web-clipper', 'https://www.notion.com/download', 'https://www.notion.com/product/mail', 'https://www.notion.com/product/calendar', 'https://www.notion.com/product/ai', 'https://www.notion.com/enterprise', 'https://www.notion.com/pricing', 'https://www.notion.com/product/notion-for-product-development', 'https://www.notion.com/product/notion-for-design', 'https://www.notion.com/templates/category/marketing', 'https://www.notion.com/templates/category/ticketing', 'https://www.notion.com/startups', 'https://www.notion.com/teams', 'https://www.notion.com/enterprise', 'https://www.notion.com/product/notion-for-education', 'https://www.notion.com/help', 'https://www.notion.com/customers', 'https://www.notion.com/blog', 'https://www.notion.com/community', 'https://developers.notion.com', 'https://www.notion.com/templates', 'https://www.notion.com/security', 'https://www.notion.com/consulting-partner-program', 'https://www.notion.com/contact-sales', 'https://www.notion.com/login', 'https://www.notion.com/signup', 'https://www.notion.com/signup', 'https://www.notion.com/contact-sales', 'https://www.notion.com/product/docs', 'https://www.notion.com/product/projects', 'https://www.notion.com/product/wikis', 'https://www.notion.com/product/ai', 'https://www.notion.com/templates', 'https://www.notion.com/product/docs', 'https://www.notion.com/product/wikis', 'https://www.notion.com/product/projects', 'https://www.notion.com/product/ai', 'https://www.notion.com/product/calendar', 'https://www.notion.com/templates/category/planning-goals', 'https://www.notion.com/product/sites', 'https://www.notion.com/templates', 'https://www.notion.com/signup', 'https://www.notion.com/download', 'https://www.notion.com/signup', 'https://www.notion.com/product/calendar/download', 'https://www.notion.com/product', 'https://www.instagram.com/notionhq/', 'https://twitter.com/NotionHQ', 'https://www.linkedin.com/company/notionhq/', 'https://www.facebook.com/NotionHQ/', 'https://www.youtube.com/channel/UCoSvlWS5XcwaSzIcbuJ-Ysg', 'https://www.notion.com/about', 'https://www.notion.com/careers', 'https://www.notion.com/security', 'https://www.notion-status.com', 'https://www.notion.so/28ffdd083dc3473e9c2da6ec011b58ac', 'https://www.notion.so/notion/Privacy-Policy-3468d120cf614d4c9014c09f6adc9091?source=copy_link#18e15495ac2643659c303cbe96358620', 'https://www.notion.com/mobile', 'https://www.notion.com/desktop', 'https://www.notion.com/product/calendar/download', 'https://www.notion.com/web-clipper', 'https://www.notion.com/help', 'https://www.notion.com/pricing', 'https://www.notion.com/blog', 'https://www.notion.com/community', 'https://www.notion.com/integrations', 'https://www.notion.com/templates', 'https://www.notion.com/affiliates', 'https://www.notion.com/enterprise', 'https://www.notion.com/teams', 'https://www.notion.com/personal', 'https://www.notion.com/explore']\n",
      "\n",
      "📨 Sending links to Gemini...\n",
      "\n",
      "🧠 Gemini returned:\n",
      "```json\n",
      "{\n",
      "  \"pricing_url\": \"https://www.notion.com/pricing\",\n",
      "  \"blog_url\": \"https://www.notion.com/blog\",\n",
      "  \"release_notes_url\": \"\",\n",
      "  \"linkedin_url\": \"https://www.linkedin.com/company/notionhq/\",\n",
      "  \"twitter_url\": \"https://twitter.com/NotionHQ\",\n",
      "  \"playstore_url\": \"\",\n",
      "  \"appstore_url\": \"\"\n",
      "}\n",
      "```\n",
      "\n"
     ]
    }
   ],
   "source": [
    "scan_website(\"https://www.notion.com\")"
   ]
  },
  {
   "cell_type": "markdown",
   "id": "6d26ae83",
   "metadata": {},
   "source": [
    "# 2. Snapshots"
   ]
  },
  {
   "cell_type": "code",
   "execution_count": 13,
   "id": "5fbd679a",
   "metadata": {},
   "outputs": [],
   "source": [
    "URL_info = {\"pricing_url\": \"https://www.notion.com/pricing\",\n",
    "            \"blog_url\": \"https://www.notion.com/blog\",\n",
    "            \"release_notes_url\": \"https://www.notion.com/releases\",\n",
    "            \"linkedin_url\": \"https://www.linkedin.com/company/notionhq\",\n",
    "            \"twitter_url\": \"https://x.com/NotionHQ\",\n",
    "            \"playstore_url\": \"https://play.google.com/store/apps/details?id=notion.id\",\n",
    "            \"appstore_url\": \"https://apps.apple.com/app/notion/id1232780281\"\n",
    "            }"
   ]
  },
  {
   "cell_type": "code",
   "execution_count": 14,
   "id": "e3d76ccf",
   "metadata": {},
   "outputs": [],
   "source": [
    "import pandas as pd"
   ]
  },
  {
   "cell_type": "code",
   "execution_count": 15,
   "id": "c1468987",
   "metadata": {},
   "outputs": [],
   "source": [
    "def scrape_urls_to_df(url_info: dict) -> pd.DataFrame:\n",
    "    data = []\n",
    "\n",
    "    headers = {'User-Agent': 'Mozilla/5.0'}\n",
    "\n",
    "    for label, url in url_info.items():\n",
    "        if not url:\n",
    "            print(f\"⚠️ Skipping {label} as URL is empty.\")\n",
    "            content = \"\"\n",
    "        else:\n",
    "            try:\n",
    "                print(f\"🔗 Fetching {label} from {url}\")\n",
    "                response = requests.get(url, headers=headers, timeout=10)\n",
    "                response.raise_for_status()\n",
    "                content = response.text\n",
    "                print(f\"✅ {label} fetched successfully.\")\n",
    "            except Exception as e:\n",
    "                print(f\"❌ Failed to fetch {label} from {url}: {e}\")\n",
    "                content = \"\"\n",
    "\n",
    "        data.append({\n",
    "            \"label\": label,\n",
    "            \"url\": url,\n",
    "            \"content\": content\n",
    "        })\n",
    "\n",
    "    df = pd.DataFrame(data)\n",
    "    return df"
   ]
  },
  {
   "cell_type": "code",
   "execution_count": 17,
   "id": "c9981f65",
   "metadata": {},
   "outputs": [
    {
     "name": "stdout",
     "output_type": "stream",
     "text": [
      "🔗 Fetching pricing_url from https://www.notion.com/pricing\n",
      "✅ pricing_url fetched successfully.\n",
      "🔗 Fetching blog_url from https://www.notion.com/blog\n",
      "✅ blog_url fetched successfully.\n",
      "🔗 Fetching release_notes_url from https://www.notion.com/releases\n",
      "✅ release_notes_url fetched successfully.\n",
      "🔗 Fetching linkedin_url from https://www.linkedin.com/company/notionhq\n",
      "✅ linkedin_url fetched successfully.\n",
      "🔗 Fetching twitter_url from https://x.com/NotionHQ\n",
      "❌ Failed to fetch twitter_url from https://x.com/NotionHQ: 400 Client Error: Bad Request for url: https://x.com/NotionHQ\n",
      "🔗 Fetching playstore_url from https://play.google.com/store/apps/details?id=notion.id\n",
      "✅ playstore_url fetched successfully.\n",
      "🔗 Fetching appstore_url from https://apps.apple.com/app/notion/id1232780281\n",
      "✅ appstore_url fetched successfully.\n",
      "               label                                                url  \\\n",
      "0        pricing_url                     https://www.notion.com/pricing   \n",
      "1           blog_url                        https://www.notion.com/blog   \n",
      "2  release_notes_url                    https://www.notion.com/releases   \n",
      "3       linkedin_url          https://www.linkedin.com/company/notionhq   \n",
      "4        twitter_url                             https://x.com/NotionHQ   \n",
      "5      playstore_url  https://play.google.com/store/apps/details?id=...   \n",
      "6       appstore_url     https://apps.apple.com/app/notion/id1232780281   \n",
      "\n",
      "                                             content  \n",
      "0  <!DOCTYPE html><html lang=\"en-us\"><head><meta ...  \n",
      "1  <!DOCTYPE html><html lang=\"en-us\"><head><meta ...  \n",
      "2  <!DOCTYPE html><html lang=\"en-us\"><head><meta ...  \n",
      "3  <!DOCTYPE html>\\n\\n    \\n    \\n    \\n    \\n   ...  \n",
      "4                                                     \n",
      "5  <!doctype html><html lang=\"en-US\" dir=\"ltr\"><h...  \n",
      "6  <!DOCTYPE html><html  dir=\"ltr\" lang=\"en-US\"><...  \n"
     ]
    }
   ],
   "source": [
    "scrape_df = scrape_urls_to_df(URL_info)\n",
    "print(scrape_df)"
   ]
  },
  {
   "cell_type": "code",
   "execution_count": 21,
   "id": "779d9303",
   "metadata": {},
   "outputs": [
    {
     "data": {
      "text/plain": [
       "label                                            pricing_url\n",
       "url                           https://www.notion.com/pricing\n",
       "content    <!DOCTYPE html><html lang=\"en-us\"><head><meta ...\n",
       "Name: 0, dtype: object"
      ]
     },
     "execution_count": 21,
     "metadata": {},
     "output_type": "execute_result"
    }
   ],
   "source": [
    "scrape_df.iloc[0]"
   ]
  },
  {
   "cell_type": "code",
   "execution_count": null,
   "id": "ac3b064c",
   "metadata": {},
   "outputs": [],
   "source": []
  },
  {
   "cell_type": "code",
   "execution_count": null,
   "id": "2de0fb34",
   "metadata": {},
   "outputs": [],
   "source": []
  },
  {
   "cell_type": "code",
   "execution_count": null,
   "id": "fd477c65",
   "metadata": {},
   "outputs": [],
   "source": []
  }
 ],
 "metadata": {
  "kernelspec": {
   "display_name": "venv",
   "language": "python",
   "name": "python3"
  },
  "language_info": {
   "codemirror_mode": {
    "name": "ipython",
    "version": 3
   },
   "file_extension": ".py",
   "mimetype": "text/x-python",
   "name": "python",
   "nbconvert_exporter": "python",
   "pygments_lexer": "ipython3",
   "version": "3.11.9"
  }
 },
 "nbformat": 4,
 "nbformat_minor": 5
}
